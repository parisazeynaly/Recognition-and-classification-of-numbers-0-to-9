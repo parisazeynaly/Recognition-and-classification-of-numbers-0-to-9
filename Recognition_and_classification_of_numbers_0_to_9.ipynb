{
  "nbformat": 4,
  "nbformat_minor": 0,
  "metadata": {
    "colab": {
      "provenance": [],
      "authorship_tag": "ABX9TyOL6gwTNdIz9WTkgV1ensam",
      "include_colab_link": true
    },
    "kernelspec": {
      "name": "python3",
      "display_name": "Python 3"
    },
    "language_info": {
      "name": "python"
    }
  },
  "cells": [
    {
      "cell_type": "markdown",
      "metadata": {
        "id": "view-in-github",
        "colab_type": "text"
      },
      "source": [
        "<a href=\"https://colab.research.google.com/github/parisazeynaly/Recognition-and-classification-of-numbers-0-to-9/blob/main/Recognition_and_classification_of_numbers_0_to_9.ipynb\" target=\"_parent\"><img src=\"https://colab.research.google.com/assets/colab-badge.svg\" alt=\"Open In Colab\"/></a>"
      ]
    },
    {
      "cell_type": "code",
      "execution_count": 1,
      "metadata": {
        "id": "KhLoODpS6Al4"
      },
      "outputs": [],
      "source": [
        "from sklearn.datasets import  load_digits"
      ]
    }
  ]
}